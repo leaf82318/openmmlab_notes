{
 "cells": [
  {
   "cell_type": "code",
   "execution_count": 1,
   "id": "3e523247-543d-4a58-9f62-5d5faf00e4f5",
   "metadata": {},
   "outputs": [],
   "source": [
    "#import os\n",
    "#os.chdir('mmpretrain')\n",
    "# os.getcwd()"
   ]
  },
  {
   "cell_type": "code",
   "execution_count": 2,
   "id": "52a2c81f-273a-497c-9be5-06056a9d5431",
   "metadata": {},
   "outputs": [
    {
     "data": {
      "text/plain": [
       "'/mnt/openmmlab-Camp/02-mmpretrain-task/mmpretrain'"
      ]
     },
     "execution_count": 2,
     "metadata": {},
     "output_type": "execute_result"
    }
   ],
   "source": [
    "#os.getcwd()"
   ]
  },
  {
   "cell_type": "code",
   "execution_count": null,
   "id": "ce5a61c2-a5ec-4b55-9f54-8274e1d327c0",
   "metadata": {
    "tags": []
   },
   "outputs": [],
   "source": [
    "!mim train mmpretrain myconfig\\\\resnet50_fruit30.py --work-dir=work_dirs"
   ]
  },
  {
   "cell_type": "code",
   "execution_count": null,
   "id": "64fb2c42-a5f4-4de4-9f69-b42e60711942",
   "metadata": {
    "jupyter": {
     "outputs_hidden": true
    },
    "tags": []
   },
   "outputs": [],
   "source": [
    "# 或使用该命令启动训练\n",
    "!python tools/train.py \\\n",
    "    myconfig/resnet50_fruit30.py \\\n",
    "    --work-dir=work_dirs"
   ]
  },
  {
   "cell_type": "code",
   "execution_count": null,
   "id": "5a85faae",
   "metadata": {},
   "outputs": [],
   "source": []
  }
 ],
 "metadata": {
  "kernelspec": {
   "display_name": "Python 3 (ipykernel)",
   "language": "python",
   "name": "python3"
  },
  "language_info": {
   "codemirror_mode": {
    "name": "ipython",
    "version": 3
   },
   "file_extension": ".py",
   "mimetype": "text/x-python",
   "name": "python",
   "nbconvert_exporter": "python",
   "pygments_lexer": "ipython3",
   "version": "3.8.16"
  }
 },
 "nbformat": 4,
 "nbformat_minor": 5
}
