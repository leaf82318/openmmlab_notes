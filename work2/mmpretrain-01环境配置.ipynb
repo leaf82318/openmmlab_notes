{
 "cells": [
  {
   "cell_type": "markdown",
   "id": "50497f08-0dfb-4d41-971e-9743621ad468",
   "metadata": {},
   "source": [
    "# 下载mmpretrain源码"
   ]
  },
  {
   "cell_type": "code",
   "execution_count": 1,
   "id": "4976608c-2104-4c50-ac91-c2d76bd4b57d",
   "metadata": {},
   "outputs": [],
   "source": [
    "#!git clone https://github.com/open-mmlab/mmpretrain"
   ]
  },
  {
   "cell_type": "markdown",
   "id": "9630b0df-2eb2-4963-9280-c83c9d09d076",
   "metadata": {},
   "source": [
    "# 进入mmpretrain目录"
   ]
  },
  {
   "cell_type": "code",
   "execution_count": 2,
   "id": "95fef4fc-ed25-48b1-a3b9-884360b4cc92",
   "metadata": {},
   "outputs": [],
   "source": [
    "import os\n",
    "os.chdir('mmpretrain')"
   ]
  },
  {
   "cell_type": "code",
   "execution_count": 3,
   "id": "f6cca8b6-6f26-452a-8486-2773f35e8ea1",
   "metadata": {},
   "outputs": [
    {
     "data": {
      "text/plain": [
       "'F:\\\\openprj\\\\openmmlab\\\\mmpretrain'"
      ]
     },
     "execution_count": 3,
     "metadata": {},
     "output_type": "execute_result"
    }
   ],
   "source": [
    "os.getcwd()"
   ]
  },
  {
   "cell_type": "markdown",
   "id": "74fe8b09-4b4c-45c1-b0bd-3051e28938c6",
   "metadata": {},
   "source": [
    "# 安装mim"
   ]
  },
  {
   "cell_type": "code",
   "execution_count": 4,
   "id": "719453bd-226d-44ba-a6f7-f9b7840a161b",
   "metadata": {
    "tags": []
   },
   "outputs": [],
   "source": [
    "#!/root/miniconda3/envs/myconda/bin/pip install openmim"
   ]
  },
  {
   "cell_type": "markdown",
   "id": "3a337648-4465-421e-897f-b814f5c9ef21",
   "metadata": {},
   "source": [
    "# 安装mmpretrain多模态算法库"
   ]
  },
  {
   "cell_type": "code",
   "execution_count": 7,
   "id": "c2921ba0-bfbe-40aa-af00-db2c1aef3f3a",
   "metadata": {},
   "outputs": [
    {
     "name": "stdout",
     "output_type": "stream",
     "text": [
      "Looking in links: https://download.openmmlab.com/mmcv/dist/cu113/torch1.10.0/index.html\n",
      "Obtaining file:///F:/openprj/openmmlab/mmpretrain\n",
      "  Preparing metadata (setup.py): started\n",
      "  Preparing metadata (setup.py): finished with status 'done'\n"
     ]
    },
    {
     "name": "stderr",
     "output_type": "stream",
     "text": [
      "WARNING: Retrying (Retry(total=4, connect=None, read=None, redirect=None, status=None)) after connection broken by 'NewConnectionError('<pip._vendor.urllib3.connection.HTTPSConnection object at 0x0000029991F48C10>: Failed to establish a new connection: [Errno 11001] getaddrinfo failed')': /mmcv/dist/cu113/torch1.10.0/index.html\n",
      "WARNING: Retrying (Retry(total=3, connect=None, read=None, redirect=None, status=None)) after connection broken by 'NewConnectionError('<pip._vendor.urllib3.connection.HTTPSConnection object at 0x0000029991F48F10>: Failed to establish a new connection: [Errno 11001] getaddrinfo failed')': /mmcv/dist/cu113/torch1.10.0/index.html\n",
      "WARNING: Retrying (Retry(total=2, connect=None, read=None, redirect=None, status=None)) after connection broken by 'NewConnectionError('<pip._vendor.urllib3.connection.HTTPSConnection object at 0x0000029991F53040>: Failed to establish a new connection: [Errno 11001] getaddrinfo failed')': /mmcv/dist/cu113/torch1.10.0/index.html\n",
      "WARNING: Retrying (Retry(total=1, connect=None, read=None, redirect=None, status=None)) after connection broken by 'NewConnectionError('<pip._vendor.urllib3.connection.HTTPSConnection object at 0x0000029991F532B0>: Failed to establish a new connection: [Errno 11001] getaddrinfo failed')': /mmcv/dist/cu113/torch1.10.0/index.html\n",
      "WARNING: Retrying (Retry(total=0, connect=None, read=None, redirect=None, status=None)) after connection broken by 'NewConnectionError('<pip._vendor.urllib3.connection.HTTPSConnection object at 0x0000029991F53460>: Failed to establish a new connection: [Errno 11001] getaddrinfo failed')': /mmcv/dist/cu113/torch1.10.0/index.html\n",
      "WARNING: Retrying (Retry(total=4, connect=None, read=None, redirect=None, status=None)) after connection broken by 'NewConnectionError('<pip._vendor.urllib3.connection.HTTPSConnection object at 0x0000029991F28850>: Failed to establish a new connection: [Errno 11001] getaddrinfo failed')': /simple/einops/\n",
      "WARNING: Retrying (Retry(total=3, connect=None, read=None, redirect=None, status=None)) after connection broken by 'NewConnectionError('<pip._vendor.urllib3.connection.HTTPSConnection object at 0x0000029991F53670>: Failed to establish a new connection: [Errno 11001] getaddrinfo failed')': /simple/einops/\n",
      "WARNING: Retrying (Retry(total=2, connect=None, read=None, redirect=None, status=None)) after connection broken by 'NewConnectionError('<pip._vendor.urllib3.connection.HTTPSConnection object at 0x0000029991F53880>: Failed to establish a new connection: [Errno 11001] getaddrinfo failed')': /simple/einops/\n",
      "WARNING: Retrying (Retry(total=1, connect=None, read=None, redirect=None, status=None)) after connection broken by 'NewConnectionError('<pip._vendor.urllib3.connection.HTTPSConnection object at 0x0000029991F53A30>: Failed to establish a new connection: [Errno 11001] getaddrinfo failed')': /simple/einops/\n",
      "WARNING: Retrying (Retry(total=0, connect=None, read=None, redirect=None, status=None)) after connection broken by 'NewConnectionError('<pip._vendor.urllib3.connection.HTTPSConnection object at 0x0000029991F53BE0>: Failed to establish a new connection: [Errno 11001] getaddrinfo failed')': /simple/einops/\n",
      "ERROR: Could not find a version that satisfies the requirement einops (from mmpretrain[multimodal]) (from versions: none)\n",
      "ERROR: No matching distribution found for einops\n"
     ]
    }
   ],
   "source": [
    "!mim install -e \".[multimodal]\""
   ]
  },
  {
   "cell_type": "code",
   "execution_count": null,
   "id": "381e45a3",
   "metadata": {},
   "outputs": [],
   "source": []
  }
 ],
 "metadata": {
  "kernelspec": {
   "display_name": "Python 3 (ipykernel)",
   "language": "python",
   "name": "python3"
  },
  "language_info": {
   "codemirror_mode": {
    "name": "ipython",
    "version": 3
   },
   "file_extension": ".py",
   "mimetype": "text/x-python",
   "name": "python",
   "nbconvert_exporter": "python",
   "pygments_lexer": "ipython3",
   "version": "3.8.16"
  }
 },
 "nbformat": 4,
 "nbformat_minor": 5
}
